{
 "cells": [
  {
   "cell_type": "markdown",
   "id": "7568b7e6",
   "metadata": {},
   "source": [
    "Question1.What are the two values of the Boolean data type? How do you write them?\n",
    "\n",
    "Answer: Two values of the boolean data type are True and False.\n",
    "we can write them as following:"
   ]
  },
  {
   "cell_type": "code",
   "execution_count": 1,
   "id": "52887e26",
   "metadata": {},
   "outputs": [
    {
     "data": {
      "text/plain": [
       "bool"
      ]
     },
     "execution_count": 1,
     "metadata": {},
     "output_type": "execute_result"
    }
   ],
   "source": [
    "a=True\n",
    "type(a)\n",
    "b=False\n",
    "type(b)"
   ]
  },
  {
   "cell_type": "markdown",
   "id": "19354166",
   "metadata": {},
   "source": [
    "Question2.What are the three different types of Boolean operators?\n",
    "\n",
    "\n",
    "Answer: There are three types of boolean operators \n",
    "\n",
    "1.AND operator (&)\n",
    "\n",
    "2.OR opeartor (|)\n",
    "\n",
    "3.NOT (~)"
   ]
  },
  {
   "cell_type": "markdown",
   "id": "a730fcd0",
   "metadata": {},
   "source": [
    "Question3. Make a list of each Boolean operator&#39;s truth tables (i.e. every possible combination of Boolean\n",
    "values for the operator and what it evaluate ).\n",
    "\n",
    "Answer: Truth table of AND operator:\n",
    "\n",
    "\n",
    "\n",
    "{(False and False: False)\n",
    "\n",
    "(False and True: False)\n",
    "\n",
    "(True and False: False)\n",
    "\n",
    "(True and True: True)}"
   ]
  },
  {
   "cell_type": "markdown",
   "id": "00cf8098",
   "metadata": {},
   "source": [
    "truth table for OR operator:\n",
    "\n",
    "{(False or False: False)\n",
    "\n",
    "(False or True: True)\n",
    "\n",
    "(True or False: True)\n",
    "\n",
    "(True or True: True)}\n",
    "\n"
   ]
  },
  {
   "cell_type": "markdown",
   "id": "36b02f24",
   "metadata": {},
   "source": [
    "truth table for NOT operator:\n",
    "\n",
    "{(not True : False)\n",
    "\n",
    "(not False : True)}"
   ]
  },
  {
   "cell_type": "markdown",
   "id": "5fe4f6f3",
   "metadata": {},
   "source": [
    "Question4. What are the values of the following expressions?\n",
    "\n",
    "Answer:(5 > 4) and (3 == 5) : True and False : False\n",
    "\n",
    "not (5 > 4): not True : False\n",
    "\n",
    "(5 > 4) or (3 == 5): True or False :True\n",
    "\n",
    "not ((5> 4) or (3 == 5)): not (True or False ): not True : False\n",
    "\n",
    "(True and True) and (True == False): True and False : False\n",
    "\n",
    "(not False) or (not True) : True or False : True"
   ]
  },
  {
   "cell_type": "code",
   "execution_count": 1,
   "id": "dd9262a9",
   "metadata": {},
   "outputs": [
    {
     "data": {
      "text/plain": [
       "False"
      ]
     },
     "execution_count": 1,
     "metadata": {},
     "output_type": "execute_result"
    }
   ],
   "source": [
    "(5 > 4) and (3 == 5)"
   ]
  },
  {
   "cell_type": "code",
   "execution_count": 2,
   "id": "79486504",
   "metadata": {},
   "outputs": [
    {
     "data": {
      "text/plain": [
       "False"
      ]
     },
     "execution_count": 2,
     "metadata": {},
     "output_type": "execute_result"
    }
   ],
   "source": [
    "not (5 > 4)"
   ]
  },
  {
   "cell_type": "code",
   "execution_count": 3,
   "id": "e11f1c6d",
   "metadata": {},
   "outputs": [
    {
     "data": {
      "text/plain": [
       "True"
      ]
     },
     "execution_count": 3,
     "metadata": {},
     "output_type": "execute_result"
    }
   ],
   "source": [
    "(5 > 4) or (3 == 5)"
   ]
  },
  {
   "cell_type": "code",
   "execution_count": 4,
   "id": "583329ce",
   "metadata": {},
   "outputs": [
    {
     "data": {
      "text/plain": [
       "False"
      ]
     },
     "execution_count": 4,
     "metadata": {},
     "output_type": "execute_result"
    }
   ],
   "source": [
    "not ((5> 4) or (3 == 5))"
   ]
  },
  {
   "cell_type": "code",
   "execution_count": 5,
   "id": "db9ce69f",
   "metadata": {},
   "outputs": [
    {
     "data": {
      "text/plain": [
       "False"
      ]
     },
     "execution_count": 5,
     "metadata": {},
     "output_type": "execute_result"
    }
   ],
   "source": [
    "(True and True) and (True == False)"
   ]
  },
  {
   "cell_type": "code",
   "execution_count": 6,
   "id": "f44b6877",
   "metadata": {},
   "outputs": [
    {
     "data": {
      "text/plain": [
       "True"
      ]
     },
     "execution_count": 6,
     "metadata": {},
     "output_type": "execute_result"
    }
   ],
   "source": [
    "(not False) or (not True)"
   ]
  },
  {
   "cell_type": "markdown",
   "id": "19744f55",
   "metadata": {},
   "source": [
    "Question 5.What are the six comparison operators?\n",
    "\n",
    "Answer: Six comaprision operators are :\n",
    "        \n",
    "        1) == (Equal too)\n",
    "        \n",
    "        2) !=  (Not equal)\n",
    "        \n",
    "        3) <   (Less than)\n",
    "        \n",
    "        4) >   (Greater than)\n",
    "        \n",
    "        5) <=  (Less than equal too)\n",
    "        \n",
    "        6) >=  (Greater than equal too)"
   ]
  },
  {
   "cell_type": "markdown",
   "id": "714d04a8",
   "metadata": {},
   "source": [
    "Question 6. How do you tell the difference between the equal to and assignment operators?Describe a\n",
    "condition and when you would use one.\n",
    "\n",
    "Answer: The “=” is an assignment operator is used to assign the value on the right to the variable on the left.\n",
    "    \n",
    "    Ex. x = 2\n",
    "    \n",
    "    The ‘==’ operator checks whether the two given operands are equal or not. If so, it returns true. Otherwise it returns false. \n",
    "    Ex.5==3 it returns False\n",
    "    4==4 it returns True\n",
    "    "
   ]
  },
  {
   "cell_type": "markdown",
   "id": "3cdf9d2a",
   "metadata": {},
   "source": [
    "Question 7.Identify the three blocks in this code:"
   ]
  },
  {
   "cell_type": "code",
   "execution_count": null,
   "id": "dbb8ef7c",
   "metadata": {},
   "outputs": [],
   "source": [
    "spam = 0\n",
    "if spam == 10:\n",
    "    print('eggs')\n",
    "if spam >5:\n",
    "    print('bacon')\n",
    "else:\n",
    "    print('ham')\n",
    "    print('spam')\n",
    "    print('spam')\n",
    "    "
   ]
  },
  {
   "cell_type": "raw",
   "id": "830f63cf",
   "metadata": {},
   "source": [
    "Question 8.Write code that prints Hello if 1 is stored in spam, prints Howdy if 2 is stored in spam, and prints\n",
    "Greetings! if anything else is stored in spam."
   ]
  },
  {
   "cell_type": "code",
   "execution_count": 9,
   "id": "c320be73",
   "metadata": {},
   "outputs": [
    {
     "name": "stdout",
     "output_type": "stream",
     "text": [
      "Greetings!\n"
     ]
    }
   ],
   "source": [
    "if spam == 1:\n",
    "    print(\"Hello\")\n",
    "if spam == 2:\n",
    "    print(\"Howdy\")\n",
    "else:\n",
    "    print(\"Greetings!\")\n"
   ]
  },
  {
   "cell_type": "markdown",
   "id": "801d3ed3",
   "metadata": {},
   "source": [
    "Question 9.If your programme is stuck in an endless loop, what keys you’ll press?"
   ]
  },
  {
   "cell_type": "markdown",
   "id": "19cbe457",
   "metadata": {},
   "source": [
    "Answer: Press CTRL+C to stop a program stuck in an infinite loop."
   ]
  },
  {
   "cell_type": "markdown",
   "id": "156b1ff4",
   "metadata": {},
   "source": [
    "Question 10. How can you tell the difference between break and continue?\n",
    "\n",
    "Answer: Break and Continue both are jump statements and works differently.\n",
    "\n",
    "Break is used for the immediate termination of the loop. wherever it will find break keyword within the loop,\\\n",
    "it will stop its iteration and come out of the loop.\n",
    "\n",
    "and Continue is used to terminate the current iteration and transfers the control to the next iteration of the loop. "
   ]
  },
  {
   "cell_type": "markdown",
   "id": "231e1b0f",
   "metadata": {},
   "source": [
    "Question 11. In a for loop, what is the difference between range(10), range(0, 10), and range(0, 10, 1)?\n",
    "\n",
    "Answer:range(10) -> range(stop) -> this means loop start from 0 to 10(not includes 10),default jump is 1.\n",
    "    \n",
    "    range(0,10) -> range(start, end) ->this means loop start from 0 end on 10 but 10 (excludes) ,default jump is 1.\n",
    "    \n",
    "    range(0,10,1) -> range(start,end,step) -> this means loop start from 0 end on 10 (excludes),and every step jump by 1.\n",
    "    "
   ]
  },
  {
   "cell_type": "markdown",
   "id": "bf49d815",
   "metadata": {},
   "source": [
    "Question 12. Write a short program that prints the numbers 1 to 10 using a for loop. Then write an equivalent\n",
    "program that prints the numbers 1 to 10 using a while loop."
   ]
  },
  {
   "cell_type": "code",
   "execution_count": 10,
   "id": "f20ed376",
   "metadata": {},
   "outputs": [
    {
     "name": "stdout",
     "output_type": "stream",
     "text": [
      "1\n",
      "2\n",
      "3\n",
      "4\n",
      "5\n",
      "6\n",
      "7\n",
      "8\n",
      "9\n",
      "10\n"
     ]
    }
   ],
   "source": [
    "#using for loop\n",
    "for i in range(1,11):\n",
    "    print(i)"
   ]
  },
  {
   "cell_type": "code",
   "execution_count": 12,
   "id": "19589d67",
   "metadata": {},
   "outputs": [
    {
     "name": "stdout",
     "output_type": "stream",
     "text": [
      "1\n",
      "2\n",
      "3\n",
      "4\n",
      "5\n",
      "6\n",
      "7\n",
      "8\n",
      "9\n",
      "10\n"
     ]
    }
   ],
   "source": [
    "#using while loop\n",
    "x = 1\n",
    "while x<11:\n",
    "    print(x)\n",
    "    x+=1"
   ]
  },
  {
   "cell_type": "markdown",
   "id": "59ba795f",
   "metadata": {},
   "source": [
    "Question 13. If you had a function named bacon() inside a module named spam, how would you call it after\n",
    "importing spam?\n",
    "\n",
    "Answer : import spam\n",
    "    \n",
    "        spam.bacon()"
   ]
  },
  {
   "cell_type": "code",
   "execution_count": null,
   "id": "6f976b04",
   "metadata": {},
   "outputs": [],
   "source": []
  }
 ],
 "metadata": {
  "kernelspec": {
   "display_name": "Python 3 (ipykernel)",
   "language": "python",
   "name": "python3"
  },
  "language_info": {
   "codemirror_mode": {
    "name": "ipython",
    "version": 3
   },
   "file_extension": ".py",
   "mimetype": "text/x-python",
   "name": "python",
   "nbconvert_exporter": "python",
   "pygments_lexer": "ipython3",
   "version": "3.10.9"
  }
 },
 "nbformat": 4,
 "nbformat_minor": 5
}
